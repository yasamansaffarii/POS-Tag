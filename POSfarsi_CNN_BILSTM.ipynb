{
  "nbformat": 4,
  "nbformat_minor": 0,
  "metadata": {
    "colab": {
      "name": "POSfarsi_CNN_BILSTM.ipynb",
      "provenance": []
    },
    "kernelspec": {
      "name": "python3",
      "display_name": "Python 3"
    },
    "language_info": {
      "name": "python"
    }
  },
  "cells": [
    {
      "cell_type": "code",
      "metadata": {
        "id": "TeBBjSe6z4Zs"
      },
      "source": [
        "import pandas as pd\n",
        "import numpy as np"
      ],
      "execution_count": 1,
      "outputs": []
    },
    {
      "cell_type": "code",
      "metadata": {
        "id": "PvV2JlNQ0FNR"
      },
      "source": [
        "#خواندن دو فایل داده و ترکیبشن در یک فایل جدید\n",
        "\n",
        "import csv\n",
        "reader = csv.reader(open(\"/content/data.csv\"))\n",
        "reader1 = csv.reader(open(\"/content/data2.csv\"))\n",
        "f = open(\"/content/data1.csv\", \"w\")\n",
        "writer = csv.writer(f)\n",
        "\n",
        "for row in reader:\n",
        "    writer.writerow(row)\n",
        "for row in reader1:\n",
        "    writer.writerow(row)\n",
        "f.close()\n",
        "\n",
        "\n"
      ],
      "execution_count": 3,
      "outputs": []
    },
    {
      "cell_type": "code",
      "metadata": {
        "id": "DnxYE1roPmPM"
      },
      "source": [
        "#خواندن فایل داده جدید که ازین پس باهاش کار داریم\n",
        "\n",
        "data = pd.read_csv('/content/data1.csv' , encoding='UTF-8')\n",
        "#data = pd.read_csv('/content/data.csv' , encoding='UTF-8')\n",
        "#data2 = pd.read_csv('/content/data2.csv' , encoding='UTF-8')\n",
        "#print(data1.size)\n",
        "#print(data2.size)\n",
        "#print(data.size)\n"
      ],
      "execution_count": 4,
      "outputs": []
    },
    {
      "cell_type": "code",
      "metadata": {
        "colab": {
          "base_uri": "https://localhost:8080/"
        },
        "id": "Vmhhl1JV0FZ_",
        "outputId": "409e7323-12f9-4ffe-d811-7f5e779818f3"
      },
      "source": [
        "data.dtypes"
      ],
      "execution_count": 4,
      "outputs": [
        {
          "output_type": "execute_result",
          "data": {
            "text/plain": [
              "word         object\n",
              "Pred. Tag    object\n",
              "dtype: object"
            ]
          },
          "metadata": {
            "tags": []
          },
          "execution_count": 4
        }
      ]
    },
    {
      "cell_type": "code",
      "metadata": {
        "colab": {
          "base_uri": "https://localhost:8080/"
        },
        "id": "ULEMsEPE0Fc3",
        "outputId": "1b18c1de-663b-4533-abec-9badb3c33c1e"
      },
      "source": [
        "#مطمین شم درایه خالی ندارم تو دیتاستم\n",
        "data.isna().sum()\n"
      ],
      "execution_count": 5,
      "outputs": [
        {
          "output_type": "execute_result",
          "data": {
            "text/plain": [
              "word         0\n",
              "Pred. Tag    0\n",
              "dtype: int64"
            ]
          },
          "metadata": {
            "tags": []
          },
          "execution_count": 5
        }
      ]
    },
    {
      "cell_type": "code",
      "metadata": {
        "colab": {
          "base_uri": "https://localhost:8080/"
        },
        "id": "rWxbEm6Z0Ff_",
        "outputId": "852548e0-ab4f-45af-9517-36593f6b4e9f"
      },
      "source": [
        "#تعداد کلمات یونیک و تگ ها\n",
        "\n",
        "print((data[\"word\"]).nunique())\n",
        "print((data[\"Pred. Tag\"]).nunique())"
      ],
      "execution_count": 5,
      "outputs": [
        {
          "output_type": "stream",
          "text": [
            "20745\n",
            "25\n"
          ],
          "name": "stdout"
        }
      ]
    },
    {
      "cell_type": "code",
      "metadata": {
        "id": "xz_UmC2k2Kjx"
      },
      "source": [
        "#ستون کلمات یونیکو برمیدارم و یک لیست میکنم و بهش یه کلمه جدید به عنوان پد اخر جمله اضافه میکنم \n",
        "\n",
        "words=list(set(data[\"word\"].values))\n",
        "words.append(\"ENDPAD\")\n",
        "num_words=len(words)"
      ],
      "execution_count": 6,
      "outputs": []
    },
    {
      "cell_type": "code",
      "metadata": {
        "id": "Ez4ISe4A2Kgy"
      },
      "source": [
        "#تگ های منحصر به فردو برمیدارم و یک لیست میکنم\n",
        "\n",
        "tags=list(set(data[\"Pred. Tag\"].values))\n",
        "num_tags=len(tags)"
      ],
      "execution_count": 7,
      "outputs": []
    },
    {
      "cell_type": "code",
      "metadata": {
        "colab": {
          "base_uri": "https://localhost:8080/"
        },
        "id": "VoDpP0sXwAnp",
        "outputId": "8ea916fb-1161-4b9d-bd85-9474b153dfec"
      },
      "source": [
        "print(tags)"
      ],
      "execution_count": 54,
      "outputs": [
        {
          "output_type": "stream",
          "text": [
            "['ADJE', 'ADVS', 'PREP', 'N+PRO', 'CONJ', 'ADJS', 'PREPS', 'ADV', 'NE', 'PRO', 'NS', 'NUM', 'H1', 'N', 'V', 'DET', 'IGNORE', 'PUNC', 'POSTP', 'ADJ', 'VS', 'INTER', 'CONJS', 'Pred. Tag', 'H2']\n"
          ],
          "name": "stdout"
        }
      ]
    },
    {
      "cell_type": "code",
      "metadata": {
        "colab": {
          "base_uri": "https://localhost:8080/"
        },
        "id": "AkEK2EEF2Kdb",
        "outputId": "751fd51f-7f02-4b1c-b1d5-1f6b0dbfa421"
      },
      "source": [
        "num_words,num_tags"
      ],
      "execution_count": 8,
      "outputs": [
        {
          "output_type": "execute_result",
          "data": {
            "text/plain": [
              "(20746, 25)"
            ]
          },
          "metadata": {
            "tags": []
          },
          "execution_count": 8
        }
      ]
    },
    {
      "cell_type": "code",
      "metadata": {
        "colab": {
          "base_uri": "https://localhost:8080/"
        },
        "id": "YAvQW1n63aO4",
        "outputId": "b80604c6-fc00-4ca8-8739-5dcf743504ff"
      },
      "source": [
        "#دیتاستمو باز میکنم و یک لیست از تاپلهای هر کلمه و تگشو میسازم. برای همه کلمات یونیک و غیر یونیک. و جملات رو بر اساس نقطه جدا میکنم و لیست جملات رو میسازم.\n",
        "\n",
        "from csv import reader\n",
        "\n",
        "with open('/content/data1.csv', 'r') as read_obj:\n",
        "    # pass the file object to reader() to get the reader object\n",
        "    csv_reader = reader(read_obj)\n",
        "    # Get all rows of csv from csv_reader object as list of tuples\n",
        "    list_of_tuples = list(map(tuple, csv_reader))\n",
        "\n",
        "wordsnew=list_of_tuples[1:]\n",
        "\n",
        "import itertools\n",
        "from more_itertools import split_after\n",
        "sentences=list(split_after(wordsnew, lambda x: x == ('.', 'PUNC') ))\n",
        "\n",
        "print(sentences[0])"
      ],
      "execution_count": 9,
      "outputs": [
        {
          "output_type": "stream",
          "text": [
            "[('موفقیت', 'N'), ('گروه', 'NE'), ('نورینو', 'N'), ('اکستنشن', 'N'), ('میلانو', 'N'), ('برنده', 'NE'), ('جایزه', 'N'), ('اولین', 'ADJ'), ('رتبه', 'N'), ('در', 'PREP'), ('سطح', 'NE'), ('بین', 'ADJS'), ('المللی', 'ADJ'), ('در', 'PREP'), ('اکستنشن', 'N'), ('مو', 'N'), ('با', 'PREP'), ('همکاری', 'NE'), ('برند', 'NE'), ('هیردریمز', 'N'), ('در', 'PREP'), ('سال', 'NE'), ('۲۰۱۹', 'ADJ'), ('،', 'PUNC'), ('در', 'PREP'), ('رده بندی', 'NE'), ('جهانی', 'ADJ'), ('!', 'PUNC'), ('چقدر', 'ADV'), ('خوشحالم', 'ADJ'), ('از', 'PREP'), ('این', 'DET'), ('موفقیت', 'N'), ('چقدر', 'ADV'), ('برای', 'PREP'), ('رسیدن', 'N'), ('بهش', 'PREP'), ('تلاش', 'NE'), ('کردیم', 'ADJ'), ('،', 'PUNC'), ('عشق', 'N'), ('ورزیدیم', 'N'), ('هیچ', 'ADJ'), ('وقت', 'ADV'), ('از', 'PREP'), ('رسیدن', 'N'), ('بهش', 'PREP'), ('دست', 'NS'), ('نکشیدیم', 'N'), ('افتخار', 'VS'), ('میکنم', 'ADJE'), ('عضوی', 'ADJ'), ('از', 'PREP'), ('این', 'ADJ'), ('گروه', 'N'), ('هستم', 'N'), ('،', 'PUNC'), ('۲۰۱۹', 'ADJ'), ('،', 'PUNC'), ('!', 'PUNC'), ('.', 'PUNC')]\n"
          ],
          "name": "stdout"
        }
      ]
    },
    {
      "cell_type": "code",
      "metadata": {
        "id": "fYqZ5SKY38ja"
      },
      "source": [
        "#دو تا عملیات مهم که بعدا هم استفاده میشن. کلمات و تگ ها رو بر حسب ایندکس یونیک شماره گزاری میکنه که در بردار وان هات کاربرد داره. در برگردوندن وان هات به کلمه ی تگ هم کاربرد داره.\n",
        "\n",
        "word2idx = {w: i for i, w in enumerate(words)}\n",
        "tag2idx = {t: i for i, t in enumerate(tags)}\n"
      ],
      "execution_count": 10,
      "outputs": []
    },
    {
      "cell_type": "code",
      "metadata": {
        "colab": {
          "base_uri": "https://localhost:8080/"
        },
        "id": "cnnqxHjF38v_",
        "outputId": "4b4ef46a-4b62-4f47-94b0-1be6ccb6bc53"
      },
      "source": [
        "tag2idx\n"
      ],
      "execution_count": 61,
      "outputs": [
        {
          "output_type": "execute_result",
          "data": {
            "text/plain": [
              "{'ADJ': 19,\n",
              " 'ADJE': 0,\n",
              " 'ADJS': 5,\n",
              " 'ADV': 7,\n",
              " 'ADVS': 1,\n",
              " 'CONJ': 4,\n",
              " 'CONJS': 22,\n",
              " 'DET': 15,\n",
              " 'H1': 12,\n",
              " 'H2': 24,\n",
              " 'IGNORE': 16,\n",
              " 'INTER': 21,\n",
              " 'N': 13,\n",
              " 'N+PRO': 3,\n",
              " 'NE': 8,\n",
              " 'NS': 10,\n",
              " 'NUM': 11,\n",
              " 'POSTP': 18,\n",
              " 'PREP': 2,\n",
              " 'PREPS': 6,\n",
              " 'PRO': 9,\n",
              " 'PUNC': 17,\n",
              " 'Pred. Tag': 23,\n",
              " 'V': 14,\n",
              " 'VS': 20}"
            ]
          },
          "metadata": {
            "tags": []
          },
          "execution_count": 61
        }
      ]
    },
    {
      "cell_type": "code",
      "metadata": {
        "id": "LjSj3Wkc380f",
        "colab": {
          "base_uri": "https://localhost:8080/"
        },
        "outputId": "86c666e7-4c65-482d-84fc-4f725dbe5c02"
      },
      "source": [
        "#تمام کلمات همه جملات دیتاستو ایندکس گذاری میکنه و بر اساس یک ماکسیمم طولی جملات رو پد میزاره اخرشون تا طولشون ثابت باشه برای ورود به شبکه\n",
        "#همینکارو برای تگهای مربوطه هم میکنه و چون که تعداد تگها فیکسه همینجا با کتگوریکال وان هاتش میکنه.\n",
        "from tensorflow.keras.preprocessing.sequence import pad_sequences\n",
        "from tensorflow.keras.utils import to_categorical\n",
        "\n",
        "max_len=50\n",
        "\n",
        "X = [[word2idx[w[0]] for w in s] for s in sentences]\n",
        "X = pad_sequences(maxlen=max_len, sequences=X, padding=\"post\", value=num_words - 1)\n",
        "\n",
        "y = [[tag2idx[w[1]] for w in s] for s in sentences]\n",
        "y = pad_sequences(maxlen=max_len, sequences=y, padding=\"post\", value=tag2idx[\"H1\"])\n",
        "y=[to_categorical(i, num_classes=num_tags) for i in y]\n",
        "print(y[0])"
      ],
      "execution_count": 11,
      "outputs": [
        {
          "output_type": "stream",
          "text": [
            "[[0. 1. 0. ... 0. 0. 0.]\n",
            " [0. 0. 0. ... 0. 0. 0.]\n",
            " [0. 0. 0. ... 0. 0. 0.]\n",
            " ...\n",
            " [0. 0. 0. ... 0. 0. 0.]\n",
            " [0. 0. 0. ... 0. 0. 0.]\n",
            " [0. 0. 0. ... 0. 0. 0.]]\n"
          ],
          "name": "stdout"
        }
      ]
    },
    {
      "cell_type": "code",
      "metadata": {
        "id": "G0LLY1o-6D6j",
        "colab": {
          "base_uri": "https://localhost:8080/"
        },
        "outputId": "b296532f-4864-4ec8-8074-71d2a39b5dca"
      },
      "source": [
        "#درست کردن مجموعه ترین و تست از کل دیتاست\n",
        "#دقت کنید که در مدل عصبی باید تنسورها ارایه باشند ولی اینجا تگها لیستند که در ادامه همه جا به ارایه تبدیل میشه\n",
        "from sklearn.model_selection import train_test_split\n",
        " \n",
        " \n",
        "(X_train, \n",
        " X_test, \n",
        " y_train, \n",
        " y_test) = train_test_split(X, y, test_size=0.1, random_state=1)\n",
        "#X_train.shape\n",
        "type(y)"
      ],
      "execution_count": 12,
      "outputs": [
        {
          "output_type": "execute_result",
          "data": {
            "text/plain": [
              "list"
            ]
          },
          "metadata": {
            "tags": []
          },
          "execution_count": 12
        }
      ]
    },
    {
      "cell_type": "code",
      "metadata": {
        "colab": {
          "base_uri": "https://localhost:8080/"
        },
        "id": "LPxXmvgSry-B",
        "outputId": "a9ff3716-7d53-449a-e5d9-f396619f88f7"
      },
      "source": [
        " print(y_test[0])"
      ],
      "execution_count": 17,
      "outputs": [
        {
          "output_type": "stream",
          "text": [
            "[[0. 0. 0. ... 0. 0. 0.]\n",
            " [0. 0. 0. ... 0. 0. 0.]\n",
            " [0. 0. 1. ... 0. 0. 0.]\n",
            " ...\n",
            " [0. 0. 0. ... 0. 0. 0.]\n",
            " [0. 0. 0. ... 0. 0. 0.]\n",
            " [0. 0. 0. ... 0. 0. 0.]]\n"
          ],
          "name": "stdout"
        }
      ]
    },
    {
      "cell_type": "code",
      "metadata": {
        "id": "iiUnypln6D3a"
      },
      "source": [
        "from tensorflow.keras import  Model,Input\n",
        "from tensorflow.keras.layers import LSTM, Embedding, Dense, Conv1D,MaxPooling1D, UpSampling1D, concatenate\n",
        "#from keras.layers.convolutional import Deconvolution1D\n",
        "from tensorflow.keras.layers import TimeDistributed, SpatialDropout1D, Bidirectional\n",
        "from sklearn.model_selection import KFold\n",
        "from tensorflow.keras.models import save_model, load_model"
      ],
      "execution_count": 13,
      "outputs": []
    },
    {
      "cell_type": "code",
      "metadata": {
        "id": "OH11nvdq8KXv"
      },
      "source": [
        "#pip install livelossplot"
      ],
      "execution_count": null,
      "outputs": []
    },
    {
      "cell_type": "code",
      "metadata": {
        "colab": {
          "base_uri": "https://localhost:8080/"
        },
        "id": "awri11iy6D0T",
        "outputId": "178751a8-5f56-4982-9648-6aec48702292"
      },
      "source": [
        "from tensorflow.keras.callbacks import  ModelCheckpoint, EarlyStopping\n",
        "#from livelossplot.tf_keras import PlotLossesCallback\n",
        "import gc\n",
        "gc.collect(),gc.collect()"
      ],
      "execution_count": 14,
      "outputs": [
        {
          "output_type": "execute_result",
          "data": {
            "text/plain": [
              "(88, 0)"
            ]
          },
          "metadata": {
            "tags": []
          },
          "execution_count": 14
        }
      ]
    },
    {
      "cell_type": "code",
      "metadata": {
        "colab": {
          "base_uri": "https://localhost:8080/"
        },
        "id": "cyBnnDv5mpAZ",
        "outputId": "e206d695-d2e5-4a48-bd13-05fc5acc3da9"
      },
      "source": [
        "#cnn_bilstm\n",
        "#input_word=Input(shape=(max_len,))\n",
        "\n",
        "input_word=Input(shape=(max_len,))\n",
        "emb=Embedding(input_dim=num_words, output_dim= 32, input_length=max_len)(input_word)\n",
        "model1=SpatialDropout1D(0.3)(emb)\n",
        "model1=Conv1D(filters=24, kernel_size=3, padding='same', activation='relu')(model1)\n",
        "model1=MaxPooling1D(pool_size=2)(model1)\n",
        "\n",
        "#input_word2=Input(shape=(max_len,))\n",
        "#model2=Embedding(input_dim=num_words, output_dim= 32, input_length=max_len)(input_word)\n",
        "model2=Conv1D(filters=24, kernel_size=4, padding='same', activation='relu')(emb)\n",
        "model2=MaxPooling1D(pool_size=2)(model2)\n",
        "\n",
        "#input_word3=Input(shape=(max_len,))\n",
        "#model3=Embedding(input_dim=num_words, output_dim= 32, input_length=max_len)(input_word)\n",
        "model3=Conv1D(filters=24, kernel_size=5, padding='same', activation='relu')(emb)\n",
        "model3=MaxPooling1D(pool_size=2)(model3)\n",
        "\n",
        "model4 = concatenate([model1,model2,model3],axis = -1)\n",
        "model4 = UpSampling1D(size=2)(model4)\n",
        "model4=Bidirectional(LSTM(units=100,return_sequences=True, recurrent_dropout=0.1))(model4)\n",
        "model4=TimeDistributed(Dense(23,activation='relu'))(model4)\n",
        "out=TimeDistributed(Dense(num_tags,activation='softmax'))(model4)\n",
        "model=Model(input_word,out)\n",
        "model.summary()\n",
        "\n"
      ],
      "execution_count": 20,
      "outputs": [
        {
          "output_type": "stream",
          "text": [
            "Model: \"model\"\n",
            "__________________________________________________________________________________________________\n",
            "Layer (type)                    Output Shape         Param #     Connected to                     \n",
            "==================================================================================================\n",
            "input_1 (InputLayer)            [(None, 50)]         0                                            \n",
            "__________________________________________________________________________________________________\n",
            "embedding (Embedding)           (None, 50, 32)       663872      input_1[0][0]                    \n",
            "__________________________________________________________________________________________________\n",
            "spatial_dropout1d (SpatialDropo (None, 50, 32)       0           embedding[0][0]                  \n",
            "__________________________________________________________________________________________________\n",
            "conv1d (Conv1D)                 (None, 50, 24)       2328        spatial_dropout1d[0][0]          \n",
            "__________________________________________________________________________________________________\n",
            "conv1d_1 (Conv1D)               (None, 50, 24)       3096        embedding[0][0]                  \n",
            "__________________________________________________________________________________________________\n",
            "conv1d_2 (Conv1D)               (None, 50, 24)       3864        embedding[0][0]                  \n",
            "__________________________________________________________________________________________________\n",
            "max_pooling1d (MaxPooling1D)    (None, 25, 24)       0           conv1d[0][0]                     \n",
            "__________________________________________________________________________________________________\n",
            "max_pooling1d_1 (MaxPooling1D)  (None, 25, 24)       0           conv1d_1[0][0]                   \n",
            "__________________________________________________________________________________________________\n",
            "max_pooling1d_2 (MaxPooling1D)  (None, 25, 24)       0           conv1d_2[0][0]                   \n",
            "__________________________________________________________________________________________________\n",
            "concatenate (Concatenate)       (None, 25, 72)       0           max_pooling1d[0][0]              \n",
            "                                                                 max_pooling1d_1[0][0]            \n",
            "                                                                 max_pooling1d_2[0][0]            \n",
            "__________________________________________________________________________________________________\n",
            "up_sampling1d (UpSampling1D)    (None, 50, 72)       0           concatenate[0][0]                \n",
            "__________________________________________________________________________________________________\n",
            "bidirectional (Bidirectional)   (None, 50, 200)      138400      up_sampling1d[0][0]              \n",
            "__________________________________________________________________________________________________\n",
            "time_distributed (TimeDistribut (None, 50, 23)       4623        bidirectional[0][0]              \n",
            "__________________________________________________________________________________________________\n",
            "time_distributed_1 (TimeDistrib (None, 50, 25)       600         time_distributed[0][0]           \n",
            "==================================================================================================\n",
            "Total params: 816,783\n",
            "Trainable params: 816,783\n",
            "Non-trainable params: 0\n",
            "__________________________________________________________________________________________________\n"
          ],
          "name": "stdout"
        }
      ]
    },
    {
      "cell_type": "code",
      "metadata": {
        "colab": {
          "base_uri": "https://localhost:8080/"
        },
        "id": "IDOjueeGoyTn",
        "outputId": "62358c14-db3f-4f98-b082-d0440c3adc81"
      },
      "source": [
        "#bilstm_cnn\n",
        "#input_word=Input(shape=(max_len,))\n",
        "\n",
        "input_word=Input(shape=(max_len,))\n",
        "emb=Embedding(input_dim=num_words, output_dim= 32, input_length=max_len)(input_word)\n",
        "model1=SpatialDropout1D(0.3)(emb)\n",
        "model1=Bidirectional(LSTM(units=100,return_sequences=True, recurrent_dropout=0.1))(model1)\n",
        "model2=Conv1D(filters=24, kernel_size=3, padding='same', activation='relu')(model1)\n",
        "model2=MaxPooling1D(pool_size=2)(model2)\n",
        "\n",
        "#input_word2=Input(shape=(max_len,))\n",
        "#model2=Embedding(input_dim=num_words, output_dim= 32, input_length=max_len)(input_word)\n",
        "model3=Conv1D(filters=24, kernel_size=4, padding='same', activation='relu')(model1)\n",
        "model3=MaxPooling1D(pool_size=2)(model3)\n",
        "\n",
        "#input_word3=Input(shape=(max_len,))\n",
        "#model3=Embedding(input_dim=num_words, output_dim= 32, input_length=max_len)(input_word)\n",
        "model4=Conv1D(filters=24, kernel_size=5, padding='same', activation='relu')(model1)\n",
        "model4=MaxPooling1D(pool_size=2)(model4)\n",
        "\n",
        "model5 = concatenate([model2,model3,model4],axis = -1)\n",
        "model5 = UpSampling1D(size=2)(model5)\n",
        "model5=TimeDistributed(Dense(23,activation='relu'))(model5)\n",
        "out=TimeDistributed(Dense(num_tags,activation='softmax'))(model5)\n",
        "model=Model(input_word,out)\n",
        "model.summary()\n",
        "\n"
      ],
      "execution_count": 15,
      "outputs": [
        {
          "output_type": "stream",
          "text": [
            "Model: \"model\"\n",
            "__________________________________________________________________________________________________\n",
            "Layer (type)                    Output Shape         Param #     Connected to                     \n",
            "==================================================================================================\n",
            "input_1 (InputLayer)            [(None, 50)]         0                                            \n",
            "__________________________________________________________________________________________________\n",
            "embedding (Embedding)           (None, 50, 32)       663872      input_1[0][0]                    \n",
            "__________________________________________________________________________________________________\n",
            "spatial_dropout1d (SpatialDropo (None, 50, 32)       0           embedding[0][0]                  \n",
            "__________________________________________________________________________________________________\n",
            "bidirectional (Bidirectional)   (None, 50, 200)      106400      spatial_dropout1d[0][0]          \n",
            "__________________________________________________________________________________________________\n",
            "conv1d (Conv1D)                 (None, 50, 24)       14424       bidirectional[0][0]              \n",
            "__________________________________________________________________________________________________\n",
            "conv1d_1 (Conv1D)               (None, 50, 24)       19224       bidirectional[0][0]              \n",
            "__________________________________________________________________________________________________\n",
            "conv1d_2 (Conv1D)               (None, 50, 24)       24024       bidirectional[0][0]              \n",
            "__________________________________________________________________________________________________\n",
            "max_pooling1d (MaxPooling1D)    (None, 25, 24)       0           conv1d[0][0]                     \n",
            "__________________________________________________________________________________________________\n",
            "max_pooling1d_1 (MaxPooling1D)  (None, 25, 24)       0           conv1d_1[0][0]                   \n",
            "__________________________________________________________________________________________________\n",
            "max_pooling1d_2 (MaxPooling1D)  (None, 25, 24)       0           conv1d_2[0][0]                   \n",
            "__________________________________________________________________________________________________\n",
            "concatenate (Concatenate)       (None, 25, 72)       0           max_pooling1d[0][0]              \n",
            "                                                                 max_pooling1d_1[0][0]            \n",
            "                                                                 max_pooling1d_2[0][0]            \n",
            "__________________________________________________________________________________________________\n",
            "up_sampling1d (UpSampling1D)    (None, 50, 72)       0           concatenate[0][0]                \n",
            "__________________________________________________________________________________________________\n",
            "time_distributed (TimeDistribut (None, 50, 23)       1679        up_sampling1d[0][0]              \n",
            "__________________________________________________________________________________________________\n",
            "time_distributed_1 (TimeDistrib (None, 50, 25)       600         time_distributed[0][0]           \n",
            "==================================================================================================\n",
            "Total params: 830,223\n",
            "Trainable params: 830,223\n",
            "Non-trainable params: 0\n",
            "__________________________________________________________________________________________________\n"
          ],
          "name": "stdout"
        }
      ]
    },
    {
      "cell_type": "code",
      "metadata": {
        "colab": {
          "base_uri": "https://localhost:8080/"
        },
        "id": "tI66Q5lzrzRZ",
        "outputId": "79d2a259-7762-4bd4-daa2-c98effc786e5"
      },
      "source": [
        "#cnn\n",
        "#input_word=Input(shape=(max_len,))\n",
        "\n",
        "input_word=Input(shape=(max_len,))\n",
        "emb=Embedding(input_dim=num_words, output_dim= 32, input_length=max_len)(input_word)\n",
        "model1=SpatialDropout1D(0.3)(emb)\n",
        "model1=Conv1D(filters=24, kernel_size=3, padding='same', activation='relu')(model1)\n",
        "model1=MaxPooling1D(pool_size=2)(model1)\n",
        "\n",
        "#input_word2=Input(shape=(max_len,))\n",
        "#model2=Embedding(input_dim=num_words, output_dim= 32, input_length=max_len)(input_word)\n",
        "model2=Conv1D(filters=24, kernel_size=4, padding='same', activation='relu')(emb)\n",
        "model2=MaxPooling1D(pool_size=2)(model2)\n",
        "\n",
        "#input_word3=Input(shape=(max_len,))\n",
        "#model3=Embedding(input_dim=num_words, output_dim= 32, input_length=max_len)(input_word)\n",
        "model3=Conv1D(filters=24, kernel_size=5, padding='same', activation='relu')(emb)\n",
        "model3=MaxPooling1D(pool_size=2)(model3)\n",
        "\n",
        "model4 = concatenate([model1,model2,model3],axis = -1)\n",
        "model4 = UpSampling1D(size=2)(model4)\n",
        "model4=TimeDistributed(Dense(23,activation='relu'))(model4)\n",
        "out=TimeDistributed(Dense(num_tags,activation='softmax'))(model4)\n",
        "model=Model(input_word,out)\n",
        "model.summary()"
      ],
      "execution_count": 22,
      "outputs": [
        {
          "output_type": "stream",
          "text": [
            "Model: \"model_1\"\n",
            "__________________________________________________________________________________________________\n",
            "Layer (type)                    Output Shape         Param #     Connected to                     \n",
            "==================================================================================================\n",
            "input_2 (InputLayer)            [(None, 50)]         0                                            \n",
            "__________________________________________________________________________________________________\n",
            "embedding_1 (Embedding)         (None, 50, 32)       663872      input_2[0][0]                    \n",
            "__________________________________________________________________________________________________\n",
            "spatial_dropout1d_1 (SpatialDro (None, 50, 32)       0           embedding_1[0][0]                \n",
            "__________________________________________________________________________________________________\n",
            "conv1d_3 (Conv1D)               (None, 50, 24)       2328        spatial_dropout1d_1[0][0]        \n",
            "__________________________________________________________________________________________________\n",
            "conv1d_4 (Conv1D)               (None, 50, 24)       3096        embedding_1[0][0]                \n",
            "__________________________________________________________________________________________________\n",
            "conv1d_5 (Conv1D)               (None, 50, 24)       3864        embedding_1[0][0]                \n",
            "__________________________________________________________________________________________________\n",
            "max_pooling1d_3 (MaxPooling1D)  (None, 25, 24)       0           conv1d_3[0][0]                   \n",
            "__________________________________________________________________________________________________\n",
            "max_pooling1d_4 (MaxPooling1D)  (None, 25, 24)       0           conv1d_4[0][0]                   \n",
            "__________________________________________________________________________________________________\n",
            "max_pooling1d_5 (MaxPooling1D)  (None, 25, 24)       0           conv1d_5[0][0]                   \n",
            "__________________________________________________________________________________________________\n",
            "concatenate_1 (Concatenate)     (None, 25, 72)       0           max_pooling1d_3[0][0]            \n",
            "                                                                 max_pooling1d_4[0][0]            \n",
            "                                                                 max_pooling1d_5[0][0]            \n",
            "__________________________________________________________________________________________________\n",
            "up_sampling1d_1 (UpSampling1D)  (None, 50, 72)       0           concatenate_1[0][0]              \n",
            "__________________________________________________________________________________________________\n",
            "time_distributed_2 (TimeDistrib (None, 50, 23)       1679        up_sampling1d_1[0][0]            \n",
            "__________________________________________________________________________________________________\n",
            "time_distributed_3 (TimeDistrib (None, 50, 25)       600         time_distributed_2[0][0]         \n",
            "==================================================================================================\n",
            "Total params: 675,439\n",
            "Trainable params: 675,439\n",
            "Non-trainable params: 0\n",
            "__________________________________________________________________________________________________\n"
          ],
          "name": "stdout"
        }
      ]
    },
    {
      "cell_type": "code",
      "metadata": {
        "colab": {
          "base_uri": "https://localhost:8080/"
        },
        "id": "1VolbwF-sidX",
        "outputId": "c7fc4cf8-6955-404f-e3b7-54d908cc40ed"
      },
      "source": [
        "#bilstm\n",
        "#cnn_bilstm\n",
        "#input_word=Input(shape=(max_len,))\n",
        "\n",
        "input_word=Input(shape=(max_len,))\n",
        "emb=Embedding(input_dim=num_words, output_dim= 32, input_length=max_len)(input_word)\n",
        "model1=SpatialDropout1D(0.3)(emb)\n",
        "model1=Bidirectional(LSTM(units=100,return_sequences=True, recurrent_dropout=0.1))(model1)\n",
        "model1=TimeDistributed(Dense(23,activation='relu'))(model1)\n",
        "out=TimeDistributed(Dense(num_tags,activation='softmax'))(model1)\n",
        "model=Model(input_word,out)\n",
        "model.summary()"
      ],
      "execution_count": 28,
      "outputs": [
        {
          "output_type": "stream",
          "text": [
            "Model: \"model_2\"\n",
            "_________________________________________________________________\n",
            "Layer (type)                 Output Shape              Param #   \n",
            "=================================================================\n",
            "input_3 (InputLayer)         [(None, 50)]              0         \n",
            "_________________________________________________________________\n",
            "embedding_2 (Embedding)      (None, 50, 32)            663872    \n",
            "_________________________________________________________________\n",
            "spatial_dropout1d_2 (Spatial (None, 50, 32)            0         \n",
            "_________________________________________________________________\n",
            "bidirectional_1 (Bidirection (None, 50, 200)           106400    \n",
            "_________________________________________________________________\n",
            "time_distributed_4 (TimeDist (None, 50, 23)            4623      \n",
            "_________________________________________________________________\n",
            "time_distributed_5 (TimeDist (None, 50, 25)            600       \n",
            "=================================================================\n",
            "Total params: 775,495\n",
            "Trainable params: 775,495\n",
            "Non-trainable params: 0\n",
            "_________________________________________________________________\n"
          ],
          "name": "stdout"
        }
      ]
    },
    {
      "cell_type": "code",
      "metadata": {
        "colab": {
          "base_uri": "https://localhost:8080/"
        },
        "id": "Wc1heuuoqMfa",
        "outputId": "1d60a5bc-402f-4ff6-81f4-15e038f72178"
      },
      "source": [
        "#emb in bilstmبهترین نتیجه \n",
        "#input_word=Input(shape=(max_len,))\n",
        "\n",
        "input_word=Input(shape=(max_len,))\n",
        "emb=Embedding(input_dim=num_words, output_dim= 32, input_length=max_len)(input_word)\n",
        "model1=SpatialDropout1D(0.3)(emb)\n",
        "model1=Conv1D(filters=24, kernel_size=3, padding='same', activation='relu')(model1)\n",
        "model1=MaxPooling1D(pool_size=2)(model1)\n",
        "\n",
        "#input_word2=Input(shape=(max_len,))\n",
        "#model2=Embedding(input_dim=num_words, output_dim= 32, input_length=max_len)(input_word)\n",
        "model2=Conv1D(filters=24, kernel_size=4, padding='same', activation='relu')(emb)\n",
        "model2=MaxPooling1D(pool_size=2)(model2)\n",
        "\n",
        "#input_word3=Input(shape=(max_len,))\n",
        "#model3=Embedding(input_dim=num_words, output_dim= 32, input_length=max_len)(input_word)\n",
        "model3=Conv1D(filters=24, kernel_size=5, padding='same', activation='relu')(emb)\n",
        "model3=MaxPooling1D(pool_size=2)(model3)\n",
        "\n",
        "model4 = concatenate([model1,model2,model3],axis = -1)\n",
        "model4 = UpSampling1D(size=2)(model4)\n",
        "model5=concatenate([model4, emb], axis=-1)\n",
        "model5=Bidirectional(LSTM(units=100,return_sequences=True, recurrent_dropout=0.1))(model5)\n",
        "model5=TimeDistributed(Dense(23,activation='relu'))(model5)\n",
        "out=TimeDistributed(Dense(num_tags,activation='softmax'))(model5)\n",
        "model=Model(input_word,out)\n",
        "model.summary()\n",
        "\n"
      ],
      "execution_count": 35,
      "outputs": [
        {
          "output_type": "stream",
          "text": [
            "Model: \"model_3\"\n",
            "__________________________________________________________________________________________________\n",
            "Layer (type)                    Output Shape         Param #     Connected to                     \n",
            "==================================================================================================\n",
            "input_4 (InputLayer)            [(None, 50)]         0                                            \n",
            "__________________________________________________________________________________________________\n",
            "embedding_3 (Embedding)         (None, 50, 32)       663872      input_4[0][0]                    \n",
            "__________________________________________________________________________________________________\n",
            "spatial_dropout1d_3 (SpatialDro (None, 50, 32)       0           embedding_3[0][0]                \n",
            "__________________________________________________________________________________________________\n",
            "conv1d_6 (Conv1D)               (None, 50, 24)       2328        spatial_dropout1d_3[0][0]        \n",
            "__________________________________________________________________________________________________\n",
            "conv1d_7 (Conv1D)               (None, 50, 24)       3096        embedding_3[0][0]                \n",
            "__________________________________________________________________________________________________\n",
            "conv1d_8 (Conv1D)               (None, 50, 24)       3864        embedding_3[0][0]                \n",
            "__________________________________________________________________________________________________\n",
            "max_pooling1d_6 (MaxPooling1D)  (None, 25, 24)       0           conv1d_6[0][0]                   \n",
            "__________________________________________________________________________________________________\n",
            "max_pooling1d_7 (MaxPooling1D)  (None, 25, 24)       0           conv1d_7[0][0]                   \n",
            "__________________________________________________________________________________________________\n",
            "max_pooling1d_8 (MaxPooling1D)  (None, 25, 24)       0           conv1d_8[0][0]                   \n",
            "__________________________________________________________________________________________________\n",
            "concatenate_2 (Concatenate)     (None, 25, 72)       0           max_pooling1d_6[0][0]            \n",
            "                                                                 max_pooling1d_7[0][0]            \n",
            "                                                                 max_pooling1d_8[0][0]            \n",
            "__________________________________________________________________________________________________\n",
            "up_sampling1d_2 (UpSampling1D)  (None, 50, 72)       0           concatenate_2[0][0]              \n",
            "__________________________________________________________________________________________________\n",
            "concatenate_3 (Concatenate)     (None, 50, 104)      0           up_sampling1d_2[0][0]            \n",
            "                                                                 embedding_3[0][0]                \n",
            "__________________________________________________________________________________________________\n",
            "bidirectional_2 (Bidirectional) (None, 50, 200)      164000      concatenate_3[0][0]              \n",
            "__________________________________________________________________________________________________\n",
            "time_distributed_6 (TimeDistrib (None, 50, 23)       4623        bidirectional_2[0][0]            \n",
            "__________________________________________________________________________________________________\n",
            "time_distributed_7 (TimeDistrib (None, 50, 25)       600         time_distributed_6[0][0]         \n",
            "==================================================================================================\n",
            "Total params: 842,383\n",
            "Trainable params: 842,383\n",
            "Non-trainable params: 0\n",
            "__________________________________________________________________________________________________\n"
          ],
          "name": "stdout"
        }
      ]
    },
    {
      "cell_type": "code",
      "metadata": {
        "id": "uxnyCDf-krrw"
      },
      "source": [
        "#چون که تو پایتون جدید متریک های ریکال اینا حذف شده توابعشونو مینویسیم و ازینا استفاده میکنیم.\n",
        "\n",
        "from keras import backend as K\n",
        "\n",
        "def recall_m(y_true, y_pred):\n",
        "    true_positives = K.sum(K.round(K.clip(y_true * y_pred, 0, 1)))\n",
        "    possible_positives = K.sum(K.round(K.clip(y_true, 0, 1)))\n",
        "    recall = true_positives / (possible_positives + K.epsilon())\n",
        "    return recall\n",
        "\n",
        "def precision_m(y_true, y_pred):\n",
        "    true_positives = K.sum(K.round(K.clip(y_true * y_pred, 0, 1)))\n",
        "    predicted_positives = K.sum(K.round(K.clip(y_pred, 0, 1)))\n",
        "    precision = true_positives / (predicted_positives + K.epsilon())\n",
        "    return precision\n",
        "\n",
        "def f1_m(y_true, y_pred):\n",
        "    precision = precision_m(y_true, y_pred)\n",
        "    recall = recall_m(y_true, y_pred)\n",
        "    return 2*((precision*recall)/(precision+recall+K.epsilon()))"
      ],
      "execution_count": 16,
      "outputs": []
    },
    {
      "cell_type": "code",
      "metadata": {
        "id": "ofyBJr9KBe71"
      },
      "source": [
        "model.compile(loss='categorical_crossentropy', optimizer='adam', metrics=['accuracy',f1_m,precision_m, recall_m])"
      ],
      "execution_count": 36,
      "outputs": []
    },
    {
      "cell_type": "code",
      "metadata": {
        "colab": {
          "base_uri": "https://localhost:8080/"
        },
        "id": "jps58SdWANPX",
        "outputId": "319a25d5-b381-4554-8470-905ec998395c"
      },
      "source": [
        "from tensorflow.keras.callbacks import ModelCheckpoint, EarlyStopping\n",
        "early_stopping=EarlyStopping(monitor=\"val_accuracy\", verbose=0,mode=\"max\", restore_best_weights= False)\n",
        "callbacks=[early_stopping]\n",
        "\n",
        "history=model.fit(X_train, np.array(y_train),validation_split=0.1, batch_size=20, epochs=10\n",
        "                  , verbose=1)"
      ],
      "execution_count": 37,
      "outputs": [
        {
          "output_type": "stream",
          "text": [
            "Epoch 1/10\n",
            "124/124 [==============================] - 28s 184ms/step - loss: 1.9458 - accuracy: 0.5439 - f1_m: 0.4251 - precision_m: 0.6386 - recall_m: 0.3249 - val_loss: 1.1513 - val_accuracy: 0.6447 - val_f1_m: 0.6833 - val_precision_m: 0.9940 - val_recall_m: 0.5243\n",
            "Epoch 2/10\n",
            "124/124 [==============================] - 23s 186ms/step - loss: 1.1181 - accuracy: 0.6511 - f1_m: 0.6835 - precision_m: 0.9953 - recall_m: 0.5245 - val_loss: 0.8324 - val_accuracy: 0.7298 - val_f1_m: 0.7330 - val_precision_m: 0.9938 - val_recall_m: 0.5831\n",
            "Epoch 3/10\n",
            "124/124 [==============================] - 23s 185ms/step - loss: 0.7369 - accuracy: 0.7527 - f1_m: 0.7493 - precision_m: 0.9778 - recall_m: 0.6101 - val_loss: 0.6101 - val_accuracy: 0.8042 - val_f1_m: 0.7926 - val_precision_m: 0.9113 - val_recall_m: 0.7019\n",
            "Epoch 4/10\n",
            "124/124 [==============================] - 23s 186ms/step - loss: 0.5211 - accuracy: 0.8394 - f1_m: 0.8259 - precision_m: 0.9465 - recall_m: 0.7341 - val_loss: 0.5205 - val_accuracy: 0.8409 - val_f1_m: 0.8468 - val_precision_m: 0.9282 - val_recall_m: 0.7789\n",
            "Epoch 5/10\n",
            "124/124 [==============================] - 23s 187ms/step - loss: 0.3768 - accuracy: 0.8873 - f1_m: 0.8912 - precision_m: 0.9503 - recall_m: 0.8392 - val_loss: 0.4954 - val_accuracy: 0.8485 - val_f1_m: 0.8571 - val_precision_m: 0.9134 - val_recall_m: 0.8075\n",
            "Epoch 6/10\n",
            "124/124 [==============================] - 23s 187ms/step - loss: 0.3069 - accuracy: 0.9064 - f1_m: 0.9100 - precision_m: 0.9534 - recall_m: 0.8707 - val_loss: 0.4914 - val_accuracy: 0.8510 - val_f1_m: 0.8629 - val_precision_m: 0.9113 - val_recall_m: 0.8196\n",
            "Epoch 7/10\n",
            "124/124 [==============================] - 23s 189ms/step - loss: 0.2382 - accuracy: 0.9273 - f1_m: 0.9288 - precision_m: 0.9617 - recall_m: 0.8983 - val_loss: 0.5088 - val_accuracy: 0.8534 - val_f1_m: 0.8627 - val_precision_m: 0.9011 - val_recall_m: 0.8274\n",
            "Epoch 8/10\n",
            "124/124 [==============================] - 23s 188ms/step - loss: 0.1827 - accuracy: 0.9471 - f1_m: 0.9473 - precision_m: 0.9715 - recall_m: 0.9242 - val_loss: 0.5308 - val_accuracy: 0.8571 - val_f1_m: 0.8658 - val_precision_m: 0.8982 - val_recall_m: 0.8357\n",
            "Epoch 9/10\n",
            "124/124 [==============================] - 23s 189ms/step - loss: 0.1414 - accuracy: 0.9605 - f1_m: 0.9606 - precision_m: 0.9777 - recall_m: 0.9441 - val_loss: 0.5679 - val_accuracy: 0.8546 - val_f1_m: 0.8631 - val_precision_m: 0.8878 - val_recall_m: 0.8398\n",
            "Epoch 10/10\n",
            "124/124 [==============================] - 23s 189ms/step - loss: 0.1053 - accuracy: 0.9723 - f1_m: 0.9715 - precision_m: 0.9833 - recall_m: 0.9600 - val_loss: 0.6125 - val_accuracy: 0.8520 - val_f1_m: 0.8615 - val_precision_m: 0.8849 - val_recall_m: 0.8393\n"
          ],
          "name": "stdout"
        }
      ]
    },
    {
      "cell_type": "code",
      "metadata": {
        "colab": {
          "base_uri": "https://localhost:8080/"
        },
        "id": "8k9kVbuvCJVi",
        "outputId": "fd176408-3910-42f4-829b-8f5e39f90c4d"
      },
      "source": [
        "# مدلمونو ذخیره میکنیم \n",
        "filepath = '/content/saved_model'\n",
        "save_model(model, filepath)"
      ],
      "execution_count": 41,
      "outputs": [
        {
          "output_type": "stream",
          "text": [
            "INFO:tensorflow:Assets written to: /content/saved_model/assets\n"
          ],
          "name": "stdout"
        }
      ]
    },
    {
      "cell_type": "code",
      "metadata": {
        "colab": {
          "base_uri": "https://localhost:8080/",
          "height": 294
        },
        "id": "BCooh6tZPAiT",
        "outputId": "7c8a4432-7636-497b-ac42-b3e83f855370"
      },
      "source": [
        "import matplotlib.pyplot as plt\n",
        "plt.plot(history.history['accuracy'])\n",
        "plt.plot(history.history['val_accuracy'])\n",
        "plt.title('model accuracy')\n",
        "plt.ylabel('accuracy')\n",
        "plt.xlabel('epoch')\n",
        "plt.legend(['train', 'test'], loc='upper left')\n",
        "plt.show()"
      ],
      "execution_count": 42,
      "outputs": [
        {
          "output_type": "display_data",
          "data": {
            "image/png": "[encoded data removed]",
            "text/plain": [
              "<Figure size 432x288 with 1 Axes>"
            ]
          },
          "metadata": {
            "tags": [],
            "needs_background": "light"
          }
        }
      ]
    },
    {
      "cell_type": "code",
      "metadata": {
        "colab": {
          "base_uri": "https://localhost:8080/",
          "height": 294
        },
        "id": "yNvLnpG4PS7S",
        "outputId": "2d5a25d9-7f32-4f28-d5b9-d9ae0d998c3c"
      },
      "source": [
        "plt.plot(history.history['loss'])\n",
        "plt.plot(history.history['val_loss'])\n",
        "plt.title('model loss')\n",
        "plt.ylabel('loss')\n",
        "plt.xlabel('epoch')\n",
        "plt.legend(['train', 'test'], loc='upper left')\n",
        "plt.show()"
      ],
      "execution_count": 43,
      "outputs": [
        {
          "output_type": "display_data",
          "data": {
            "image/png": "[encoded data removed]",
            "text/plain": [
              "<Figure size 432x288 with 1 Axes>"
            ]
          },
          "metadata": {
            "tags": [],
            "needs_background": "light"
          }
        }
      ]
    },
    {
      "cell_type": "code",
      "metadata": {
        "colab": {
          "base_uri": "https://localhost:8080/"
        },
        "id": "bcKcMsctmy1k",
        "outputId": "c1e2ecc9-667e-4b32-ce73-37c8c5c21369"
      },
      "source": [
        "#تست مدلمون به صورت دستی\n",
        "#این دانلود پکیج فراموش نشود\n",
        "nltk.download('punkt')\n",
        "import nltk\n",
        "from nltk.tokenize import word_tokenize\n",
        "from keras.preprocessing.text import Tokenizer as tokenizer\n",
        "\n",
        "# function to return key for any value\n",
        "def get_key(val):\n",
        "\tfor key, value in tag2idx.items():\n",
        "\t\tif val == value:\n",
        "\t\t\treturn key\n",
        "\n",
        "\n",
        "print(\"یک جمله میگیریم و توکنایز میکنیم************\")\n",
        "new_complaint = 'بیا بریم دشت'\n",
        "X= word_tokenize(new_complaint)\n",
        "print(X)\n",
        "print(\"کلمات جمله رو ایندکس گذاری و پد میزنیم تا طول 50 برای یک جمله*********************\")\n",
        "X = [word2idx[w] for w in X] \n",
        "print(X)\n",
        "X = pad_sequences(maxlen=max_len, sequences=[X], padding=\"post\", value=num_words - 1)\n",
        "print(X)\n",
        "print(\"پیشگویی*************\")\n",
        "pred = model.predict(X)\n",
        "print(\"طول آرایه حاصل از پردیکت جمله ورودی  \",len(pred))\n",
        "#ازونجایی که کلا یک جمله داریم پسهمیشه در اینجا درایه اول صفر هست و درایه دوم نشانگر کلمه\n",
        "print('بردار پیشبینی شده برای جمله صفرم و کلمه صفرم',pred[0,0])\n",
        "print(' ایندکس تگ مربوط به جمله صفرم و کلمه صفرم',np.argmax(pred[0,0]))\n",
        "\n",
        "\n",
        "\n",
        "\n",
        "\n",
        "print(\"پردیکت روی مجموعه تست********\")\n",
        "pred = model.predict(X_test)\n",
        "\n",
        "print(\"پیشبینی تگ جمله هشتادم مجموعه تست و کلمه دوم\",pred[80,2])\n",
        "print(\"ایندکس پیشبینی تگ مربوط به کلمه دوم جمله هشتادم مجموعه تست: \",np.argmax(pred[80,2]))\n",
        "print(\"تگ پیشبینی شده مربوط به کلمه دوم جمله هشتادم از مجموعه تست\",get_key(np.argmax(pred[80,2])))\n",
        "print(\"کد واقعی وان هات تگ مربوط به کلمه دوم جمله هشتادم مجموعه تست\",(np.array(y_test))[80,2])\n"
      ],
      "execution_count": 46,
      "outputs": [
        {
          "output_type": "stream",
          "text": [
            "[nltk_data] Downloading package punkt to /root/nltk_data...\n",
            "[nltk_data]   Unzipping tokenizers/punkt.zip.\n",
            "یک جمله میگیریم و توکنایز میکنیم************\n",
            "['بیا', 'بریم', 'دشت']\n",
            "کلمات جمله رو ایندکس گذاری و پد میزنیم تا طول 50 برای یک جمله*********************\n",
            "[14806, 17576, 6114]\n",
            "[[14806 17576  6114 20745 20745 20745 20745 20745 20745 20745 20745 20745\n",
            "  20745 20745 20745 20745 20745 20745 20745 20745 20745 20745 20745 20745\n",
            "  20745 20745 20745 20745 20745 20745 20745 20745 20745 20745 20745 20745\n",
            "  20745 20745 20745 20745 20745 20745 20745 20745 20745 20745 20745 20745\n",
            "  20745 20745]]\n",
            "پیشگویی*************\n",
            "طول آرایه حاصل از پردیکت جمله ورودی   1\n",
            "بردار پیشبینی شده برای جمله صفرم و کلمه صفرم [1.2397740e-05 2.8109571e-02 1.9573552e-05 3.9173659e-02 1.0170414e-02\n",
            " 5.1197416e-01 4.9456052e-02 2.2679011e-05 3.2678605e-03 2.9236953e-06\n",
            " 1.0510704e-02 1.3524911e-03 4.6325760e-05 2.6536773e-08 4.3527782e-02\n",
            " 2.3716740e-01 3.3264994e-06 4.3471505e-06 2.7963049e-05 6.1576092e-03\n",
            " 2.4450752e-05 3.7811169e-05 2.0991405e-05 1.3387403e-04 5.8775537e-02]\n",
            " ایندکس تگ مربوط به جمله صفرم و کلمه صفرم 5\n",
            "پردیکت روی مجموعه تست********\n",
            "پیشبینی تگ جمله هشتادم مجموعه تست و کلمه دوم [1.9408355e-09 2.5862046e-03 2.4233763e-05 5.4232705e-01 8.0728107e-08\n",
            " 3.0115116e-01 1.9875313e-03 2.3708965e-07 5.2434905e-07 7.3756912e-10\n",
            " 3.0941027e-04 8.4954407e-04 6.9913307e-07 4.0128921e-11 7.9425162e-04\n",
            " 3.9243484e-03 1.8213312e-09 7.5417916e-10 8.9121704e-06 9.7461379e-05\n",
            " 8.1807281e-07 4.8577381e-06 3.8056291e-09 1.6927105e-09 1.4593263e-01]\n",
            "ایندکس پیشبینی تگ مربوط به کلمه دوم جمله هشتادم مجموعه تست:  3\n",
            "تگ پیشبینی شده مربوط به کلمه دوم جمله هشتادم از مجموعه تست ADJ\n",
            "کد واقعی وان هات تگ مربوط به کلمه دوم جمله هشتادم مجموعه تست [0. 0. 0. 0. 0. 1. 0. 0. 0. 0. 0. 0. 0. 0. 0. 0. 0. 0. 0. 0. 0. 0. 0. 0.\n",
            " 0.]\n"
          ],
          "name": "stdout"
        }
      ]
    },
    {
      "cell_type": "code",
      "metadata": {
        "colab": {
          "base_uri": "https://localhost:8080/"
        },
        "id": "vIVFRpxfdaaU",
        "outputId": "2f6b3c2a-daa0-4444-f935-eca349a8f78a"
      },
      "source": [
        "#جملات جدید بدهید و برچسب اجزای سخن کلمات جمله را دریافت کنید.\n",
        "import nltk\n",
        "from nltk.tokenize import word_tokenize\n",
        "#nltk.download('punkt')\n",
        "from keras.preprocessing.text import Tokenizer as tokenizer\n",
        "new_complaint = ' زندگی آسان است.'\n",
        "\n",
        "def get_key(val):\n",
        "\tfor key, value in tag2idx.items():\n",
        "\t\tif val == value:\n",
        "\t\t\treturn key\n",
        "def predict_sent(new_complaint):\n",
        "  X= word_tokenize(new_complaint)\n",
        "  print(X)\n",
        "  X = [word2idx[w] for w in X] \n",
        "  print(X)\n",
        "  X = pad_sequences(maxlen=max_len, sequences=[X], padding=\"post\", value=num_words - 1)\n",
        "  print(X)\n",
        "  pred = model.predict(X)\n",
        "  for w in range(len(pred[0])):\n",
        "    print(get_key(np.argmax(pred[0,w])))\n",
        "\n",
        "predict_sent(new_complaint)"
      ],
      "execution_count": 47,
      "outputs": [
        {
          "output_type": "stream",
          "text": [
            "['زندگی', 'آسان', 'است', '.']\n",
            "[8121, 19630, 19847, 7742]\n",
            "[[ 8121 19630 19847  7742 20745 20745 20745 20745 20745 20745 20745 20745\n",
            "  20745 20745 20745 20745 20745 20745 20745 20745 20745 20745 20745 20745\n",
            "  20745 20745 20745 20745 20745 20745 20745 20745 20745 20745 20745 20745\n",
            "  20745 20745 20745 20745 20745 20745 20745 20745 20745 20745 20745 20745\n",
            "  20745 20745]]\n",
            "NE\n",
            "ADJ\n",
            "V\n",
            "PUNC\n",
            "H1\n",
            "H1\n",
            "H1\n",
            "H1\n",
            "H1\n",
            "H1\n",
            "H1\n",
            "H1\n",
            "H1\n",
            "H1\n",
            "H1\n",
            "H1\n",
            "H1\n",
            "H1\n",
            "H1\n",
            "H1\n",
            "H1\n",
            "H1\n",
            "H1\n",
            "H1\n",
            "H1\n",
            "H1\n",
            "H1\n",
            "H1\n",
            "H1\n",
            "H1\n",
            "H1\n",
            "H1\n",
            "H1\n",
            "H1\n",
            "H1\n",
            "H1\n",
            "H1\n",
            "H1\n",
            "H1\n",
            "H1\n",
            "H1\n",
            "H1\n",
            "H1\n",
            "H1\n",
            "H1\n",
            "H1\n",
            "H1\n",
            "H1\n",
            "H1\n",
            "H1\n"
          ],
          "name": "stdout"
        }
      ]
    },
    {
      "cell_type": "code",
      "metadata": {
        "id": "irQHyMl6gems"
      },
      "source": [
        "#سعی دارم میکنم ماتریس درهم امیختگی بسازم که همش به خاطر مولتی کلاس بودن خطا میگیرم\n",
        "\n",
        "import sklearn\n",
        "y_pred = model.predict(X_test)\n",
        "confusion_matrix = sklearn.metrics.confusion_matrix(np.array(y_test), np.rint(y_pred))"
      ],
      "execution_count": null,
      "outputs": []
    },
    {
      "cell_type": "code",
      "metadata": {
        "id": "re4pHpEDp7Ft"
      },
      "source": [
        "import seaborn as sns\n",
        "from sklearn.metrics import multilabel_confusion_matrix\n",
        "pred = model.predict(X_test)\n",
        "cm = multilabel_confusion_matrix(np.array(y_test), pred)\n",
        "f = sns.heatmap(cm, annot=True)"
      ],
      "execution_count": null,
      "outputs": []
    },
    {
      "cell_type": "code",
      "metadata": {
        "id": "aj2zT91qscNQ"
      },
      "source": [
        "y_test_non_category = [ np.argmax(t) for t in y_test ]\n",
        "y_predict_non_category = [ np.argmax(t) for t in pred ]\n",
        "\n",
        "from sklearn.metrics import confusion_matrix\n",
        "confusion_matrix(y_test_non_category, y_predict_non_category)\n",
        "from sklearn.metrics import plot_confusion_matrix\n",
        "plot_confusion_matrix(keras_estimator,X_test, y_test_non_category,labels =sorted(tag2idx, key=tag2idx.get), normalize=False)  \n",
        "plt.show()"
      ],
      "execution_count": null,
      "outputs": []
    },
    {
      "cell_type": "code",
      "metadata": {
        "id": "4dm8LazmySx3"
      },
      "source": [
        "def estimator(X):\n",
        "  pred = model.predict(X)\n",
        "  for w in range(len(pred[0])):\n",
        "    print(get_key(np.argmax(pred[0,w]))\n",
        "  pred=model.predict(X)\n",
        "  y_predict_non_category = [ np.argmax(t) for t in pred ]\n",
        "  return y_predict_non_category"
      ],
      "execution_count": 66,
      "outputs": []
    },
    {
      "cell_type": "code",
      "metadata": {
        "id": "exBs46Ol0iJo"
      },
      "source": [
        "import tempfile\n",
        "import tensorflow as tf\n",
        "model_dir ='/content/saved_model'\n",
        "keras_estimator = tf.keras.estimator.model_to_estimator(\n",
        "    keras_model=model, model_dir=model_dir)"
      ],
      "execution_count": null,
      "outputs": []
    },
    {
      "cell_type": "code",
      "metadata": {
        "id": "PVla3LyjliTo"
      },
      "source": [
        "# میتونیم نتیجه ارزیابیو بخشهاشو جداگانه بریزیم تو متغیر که حالا فعلا استفاده نمیکنم\n",
        "loss, accuracy, f1_score, precision, recall = model.evaluate(X_test, np.array(y_test), verbose=0)"
      ],
      "execution_count": 31,
      "outputs": []
    },
    {
      "cell_type": "code",
      "metadata": {
        "colab": {
          "base_uri": "https://localhost:8080/"
        },
        "id": "mbQ5anrN6Tmq",
        "outputId": "991c9762-ed47-40aa-e534-74319ad42dbe"
      },
      "source": [
        "# ارزیابی مدل روی مجموعه تست\n",
        "print(len(y_train[0]))\n",
        "score = model.evaluate(X_test, np.array(y_test), verbose=1)\n",
        "print(f'Test loss: {score[0]} / Test accuracy: {score[1]}')"
      ],
      "execution_count": 40,
      "outputs": [
        {
          "output_type": "stream",
          "text": [
            "50\n",
            "10/10 [==============================] - 0s 33ms/step - loss: 0.5772 - accuracy: 0.8612 - f1_m: 0.8666 - precision_m: 0.8905 - recall_m: 0.8441\n",
            "Test loss: 0.5772271156311035 / Test accuracy: 0.8611842393875122\n"
          ],
          "name": "stdout"
        }
      ]
    }
  ]
}